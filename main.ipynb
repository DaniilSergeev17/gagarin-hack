{
 "cells": [
  {
   "cell_type": "code",
   "execution_count": 1,
   "id": "initial_id",
   "metadata": {
    "jupyter": {
     "is_executing": true
    }
   },
   "outputs": [
    {
     "name": "stderr",
     "output_type": "stream",
     "text": [
      "/home/daniil/.local/lib/python3.10/site-packages/tqdm/auto.py:21: TqdmWarning: IProgress not found. Please update jupyter and ipywidgets. See https://ipywidgets.readthedocs.io/en/stable/user_install.html\n",
      "  from .autonotebook import tqdm as notebook_tqdm\n"
     ]
    }
   ],
   "source": [
    "from telethon.sync import TelegramClient\n",
    "from client import  parse_channel_messages\n",
    "from config import API_ID, API_HASH, TOKEN\n",
    "import pandas as pd\n",
    "\n",
    "import torch\n",
    "from transformers import AutoModelForSequenceClassification\n",
    "from transformers import BertTokenizerFast"
   ]
  },
  {
   "cell_type": "code",
   "execution_count": 2,
   "id": "b30a2c4f7d3677ef",
   "metadata": {},
   "outputs": [],
   "source": [
    "client = TelegramClient('session_name', API_ID, API_HASH)"
   ]
  },
  {
   "cell_type": "code",
   "execution_count": 3,
   "id": "1ff78175-e028-4394-a9dd-d5cf2d2f129c",
   "metadata": {},
   "outputs": [],
   "source": [
    "ans = await parse_channel_messages(client, 'tinkoff_analytics_official', limit=200)"
   ]
  },
  {
   "cell_type": "code",
   "execution_count": 4,
   "id": "03babc4b-2a60-4b64-aa2b-606d6e68cf77",
   "metadata": {},
   "outputs": [
    {
     "data": {
      "text/html": [
       "<div>\n",
       "<style scoped>\n",
       "    .dataframe tbody tr th:only-of-type {\n",
       "        vertical-align: middle;\n",
       "    }\n",
       "\n",
       "    .dataframe tbody tr th {\n",
       "        vertical-align: top;\n",
       "    }\n",
       "\n",
       "    .dataframe thead th {\n",
       "        text-align: right;\n",
       "    }\n",
       "</style>\n",
       "<table border=\"1\" class=\"dataframe\">\n",
       "  <thead>\n",
       "    <tr style=\"text-align: right;\">\n",
       "      <th></th>\n",
       "      <th>text</th>\n",
       "    </tr>\n",
       "  </thead>\n",
       "  <tbody>\n",
       "    <tr>\n",
       "      <th>0</th>\n",
       "      <td>**Мосбиржа: повышаем таргет**\\nНедавно биржа о...</td>\n",
       "    </tr>\n",
       "    <tr>\n",
       "      <th>1</th>\n",
       "      <td>[​​](https://telegra.ph/file/84709e42b65175098...</td>\n",
       "    </tr>\n",
       "    <tr>\n",
       "      <th>2</th>\n",
       "      <td>[​​](https://telegra.ph/file/2f70d2ef61e576c93...</td>\n",
       "    </tr>\n",
       "    <tr>\n",
       "      <th>3</th>\n",
       "      <td>__Как торговали участники российского рынка ак...</td>\n",
       "    </tr>\n",
       "    <tr>\n",
       "      <th>4</th>\n",
       "      <td>[​​](https://telegra.ph/file/3274e62c7924893fd...</td>\n",
       "    </tr>\n",
       "    <tr>\n",
       "      <th>...</th>\n",
       "      <td>...</td>\n",
       "    </tr>\n",
       "    <tr>\n",
       "      <th>195</th>\n",
       "      <td>**Лукойл: повышаем таргет **\\nСегодня акции Лу...</td>\n",
       "    </tr>\n",
       "    <tr>\n",
       "      <th>196</th>\n",
       "      <td>В 3-м квартале объемы производства стали у ММК...</td>\n",
       "    </tr>\n",
       "    <tr>\n",
       "      <th>197</th>\n",
       "      <td>**Positive Technologies: закрываем идею на пок...</td>\n",
       "    </tr>\n",
       "    <tr>\n",
       "      <th>198</th>\n",
       "      <td></td>\n",
       "    </tr>\n",
       "    <tr>\n",
       "      <th>199</th>\n",
       "      <td></td>\n",
       "    </tr>\n",
       "  </tbody>\n",
       "</table>\n",
       "<p>200 rows × 1 columns</p>\n",
       "</div>"
      ],
      "text/plain": [
       "                                                  text\n",
       "0    **Мосбиржа: повышаем таргет**\\nНедавно биржа о...\n",
       "1    [​​](https://telegra.ph/file/84709e42b65175098...\n",
       "2    [​​](https://telegra.ph/file/2f70d2ef61e576c93...\n",
       "3    __Как торговали участники российского рынка ак...\n",
       "4    [​​](https://telegra.ph/file/3274e62c7924893fd...\n",
       "..                                                 ...\n",
       "195  **Лукойл: повышаем таргет **\\nСегодня акции Лу...\n",
       "196  В 3-м квартале объемы производства стали у ММК...\n",
       "197  **Positive Technologies: закрываем идею на пок...\n",
       "198                                                   \n",
       "199                                                   \n",
       "\n",
       "[200 rows x 1 columns]"
      ]
     },
     "execution_count": 4,
     "metadata": {},
     "output_type": "execute_result"
    }
   ],
   "source": [
    "df = pd.DataFrame({\"text\": ans})\n",
    "df"
   ]
  },
  {
   "cell_type": "code",
   "execution_count": 5,
   "id": "faf0a3a5-b15c-46da-8217-82ee803a4577",
   "metadata": {},
   "outputs": [
    {
     "data": {
      "text/html": [
       "<div>\n",
       "<style scoped>\n",
       "    .dataframe tbody tr th:only-of-type {\n",
       "        vertical-align: middle;\n",
       "    }\n",
       "\n",
       "    .dataframe tbody tr th {\n",
       "        vertical-align: top;\n",
       "    }\n",
       "\n",
       "    .dataframe thead th {\n",
       "        text-align: right;\n",
       "    }\n",
       "</style>\n",
       "<table border=\"1\" class=\"dataframe\">\n",
       "  <thead>\n",
       "    <tr style=\"text-align: right;\">\n",
       "      <th></th>\n",
       "      <th>text</th>\n",
       "    </tr>\n",
       "  </thead>\n",
       "  <tbody>\n",
       "    <tr>\n",
       "      <th>0</th>\n",
       "      <td>**Мосбиржа: повышаем таргет**\\nНедавно биржа о...</td>\n",
       "    </tr>\n",
       "    <tr>\n",
       "      <th>1</th>\n",
       "      <td>[​​](https://telegra.ph/file/84709e42b65175098...</td>\n",
       "    </tr>\n",
       "    <tr>\n",
       "      <th>2</th>\n",
       "      <td>[​​](https://telegra.ph/file/2f70d2ef61e576c93...</td>\n",
       "    </tr>\n",
       "    <tr>\n",
       "      <th>3</th>\n",
       "      <td>__Как торговали участники российского рынка ак...</td>\n",
       "    </tr>\n",
       "    <tr>\n",
       "      <th>4</th>\n",
       "      <td>[​​](https://telegra.ph/file/3274e62c7924893fd...</td>\n",
       "    </tr>\n",
       "    <tr>\n",
       "      <th>...</th>\n",
       "      <td>...</td>\n",
       "    </tr>\n",
       "    <tr>\n",
       "      <th>193</th>\n",
       "      <td>[​​](https://telegra.ph/file/c259915c57024641a...</td>\n",
       "    </tr>\n",
       "    <tr>\n",
       "      <th>194</th>\n",
       "      <td>**Сырьевые рынки: на кого делать ставку?\\n**В ...</td>\n",
       "    </tr>\n",
       "    <tr>\n",
       "      <th>195</th>\n",
       "      <td>**Лукойл: повышаем таргет **\\nСегодня акции Лу...</td>\n",
       "    </tr>\n",
       "    <tr>\n",
       "      <th>196</th>\n",
       "      <td>В 3-м квартале объемы производства стали у ММК...</td>\n",
       "    </tr>\n",
       "    <tr>\n",
       "      <th>197</th>\n",
       "      <td>**Positive Technologies: закрываем идею на пок...</td>\n",
       "    </tr>\n",
       "  </tbody>\n",
       "</table>\n",
       "<p>137 rows × 1 columns</p>\n",
       "</div>"
      ],
      "text/plain": [
       "                                                  text\n",
       "0    **Мосбиржа: повышаем таргет**\\nНедавно биржа о...\n",
       "1    [​​](https://telegra.ph/file/84709e42b65175098...\n",
       "2    [​​](https://telegra.ph/file/2f70d2ef61e576c93...\n",
       "3    __Как торговали участники российского рынка ак...\n",
       "4    [​​](https://telegra.ph/file/3274e62c7924893fd...\n",
       "..                                                 ...\n",
       "193  [​​](https://telegra.ph/file/c259915c57024641a...\n",
       "194  **Сырьевые рынки: на кого делать ставку?\\n**В ...\n",
       "195  **Лукойл: повышаем таргет **\\nСегодня акции Лу...\n",
       "196  В 3-м квартале объемы производства стали у ММК...\n",
       "197  **Positive Technologies: закрываем идею на пок...\n",
       "\n",
       "[137 rows x 1 columns]"
      ]
     },
     "execution_count": 5,
     "metadata": {},
     "output_type": "execute_result"
    }
   ],
   "source": [
    "df = df[df.text != '']\n",
    "df"
   ]
  },
  {
   "cell_type": "code",
   "execution_count": 6,
   "id": "f96d4ce4-d34a-4426-b352-ce94f1dbcef6",
   "metadata": {},
   "outputs": [],
   "source": [
    "df.to_csv(\"dataset_tinkoff_analytics.csv\")"
   ]
  },
  {
   "cell_type": "code",
   "execution_count": 11,
   "id": "9ae0668a-5b8d-469c-948d-983e08ee963e",
   "metadata": {},
   "outputs": [
    {
     "data": {
      "text/html": [
       "<div>\n",
       "<style scoped>\n",
       "    .dataframe tbody tr th:only-of-type {\n",
       "        vertical-align: middle;\n",
       "    }\n",
       "\n",
       "    .dataframe tbody tr th {\n",
       "        vertical-align: top;\n",
       "    }\n",
       "\n",
       "    .dataframe thead th {\n",
       "        text-align: right;\n",
       "    }\n",
       "</style>\n",
       "<table border=\"1\" class=\"dataframe\">\n",
       "  <thead>\n",
       "    <tr style=\"text-align: right;\">\n",
       "      <th></th>\n",
       "      <th>text</th>\n",
       "      <th>sentiment</th>\n",
       "    </tr>\n",
       "  </thead>\n",
       "  <tbody>\n",
       "    <tr>\n",
       "      <th>0</th>\n",
       "      <td>#AFKS #Отчетность\\n🖨 АФК Система: МСФО 2023\\n\\...</td>\n",
       "      <td>Positive</td>\n",
       "    </tr>\n",
       "    <tr>\n",
       "      <th>1</th>\n",
       "      <td>#ENPG #Идея\\n🧠 **Мозговой центр Сигналов РЦБ з...</td>\n",
       "      <td>Neutral</td>\n",
       "    </tr>\n",
       "    <tr>\n",
       "      <th>2</th>\n",
       "      <td>#MGNT\\n**Магнит в моменте достиг 8000 рублей —...</td>\n",
       "      <td>Positive</td>\n",
       "    </tr>\n",
       "    <tr>\n",
       "      <th>3</th>\n",
       "      <td>#Политика\\n🇷🇺 Запрет взыскания и ареста денег/...</td>\n",
       "      <td>Neutral</td>\n",
       "    </tr>\n",
       "    <tr>\n",
       "      <th>4</th>\n",
       "      <td>#GLTR\\n⚡️ **Британский инвестфонд Southey Capi...</td>\n",
       "      <td>Neutral</td>\n",
       "    </tr>\n",
       "    <tr>\n",
       "      <th>...</th>\n",
       "      <td>...</td>\n",
       "      <td>...</td>\n",
       "    </tr>\n",
       "    <tr>\n",
       "      <th>143</th>\n",
       "      <td>#GMKN\\n**📊**** Динамика корзины металлов Норни...</td>\n",
       "      <td>Negative</td>\n",
       "    </tr>\n",
       "    <tr>\n",
       "      <th>144</th>\n",
       "      <td>#NVTK\\n🇷🇺 План грузооборота по Севморпути на 2...</td>\n",
       "      <td>Positive</td>\n",
       "    </tr>\n",
       "    <tr>\n",
       "      <th>145</th>\n",
       "      <td>#Нефтянка \\n🇷🇺 РФ снижает добычу нефти во 2кв2...</td>\n",
       "      <td>Neutral</td>\n",
       "    </tr>\n",
       "    <tr>\n",
       "      <th>146</th>\n",
       "      <td>#LKOH\\n🛢 Лукойл может в течение 1-2 месяцев во...</td>\n",
       "      <td>Positive</td>\n",
       "    </tr>\n",
       "    <tr>\n",
       "      <th>147</th>\n",
       "      <td>#Политика \\n🇷🇺 Очередное заседание экономическ...</td>\n",
       "      <td>Neutral</td>\n",
       "    </tr>\n",
       "  </tbody>\n",
       "</table>\n",
       "<p>148 rows × 2 columns</p>\n",
       "</div>"
      ],
      "text/plain": [
       "                                                  text sentiment\n",
       "0    #AFKS #Отчетность\\n🖨 АФК Система: МСФО 2023\\n\\...  Positive\n",
       "1    #ENPG #Идея\\n🧠 **Мозговой центр Сигналов РЦБ з...   Neutral\n",
       "2    #MGNT\\n**Магнит в моменте достиг 8000 рублей —...  Positive\n",
       "3    #Политика\\n🇷🇺 Запрет взыскания и ареста денег/...   Neutral\n",
       "4    #GLTR\\n⚡️ **Британский инвестфонд Southey Capi...   Neutral\n",
       "..                                                 ...       ...\n",
       "143  #GMKN\\n**📊**** Динамика корзины металлов Норни...  Negative\n",
       "144  #NVTK\\n🇷🇺 План грузооборота по Севморпути на 2...  Positive\n",
       "145  #Нефтянка \\n🇷🇺 РФ снижает добычу нефти во 2кв2...   Neutral\n",
       "146  #LKOH\\n🛢 Лукойл может в течение 1-2 месяцев во...  Positive\n",
       "147  #Политика \\n🇷🇺 Очередное заседание экономическ...   Neutral\n",
       "\n",
       "[148 rows x 2 columns]"
      ]
     },
     "execution_count": 11,
     "metadata": {},
     "output_type": "execute_result"
    }
   ],
   "source": [
    "df = pd.read_csv('dataset2_labled.csv', index_col=0)[['text', 'sentiment']].reset_index(drop=True)\n",
    "df"
   ]
  },
  {
   "cell_type": "code",
   "execution_count": 15,
   "id": "e574721a-1acb-45cc-8963-a02eccbdace4",
   "metadata": {},
   "outputs": [],
   "source": [
    "ans = df.text.to_list()"
   ]
  },
  {
   "cell_type": "code",
   "execution_count": 13,
   "id": "66d350b9-62c7-49e3-a3be-b9c7c5dfdea1",
   "metadata": {},
   "outputs": [],
   "source": [
    "tokenizer = BertTokenizerFast.from_pretrained('blanchefort/rubert-base-cased-sentiment-rusentiment')\n",
    "model = AutoModelForSequenceClassification.from_pretrained('blanchefort/rubert-base-cased-sentiment-rusentiment', return_dict=True)\n"
   ]
  },
  {
   "cell_type": "code",
   "execution_count": 22,
   "id": "3d6d1efa-934b-4821-b451-d8834d0c00fc",
   "metadata": {},
   "outputs": [
    {
     "name": "stdout",
     "output_type": "stream",
     "text": [
      "Predict 0\n",
      "True Positive\n",
      "{'input_ids': tensor([[  101,   110, 18731,   191,   207,   110, 71427,  2083,   100, 89444,\n",
      "           452, 22230,   156, 29202, 36344, 89459, 65588,  1816,   138,   132,\n",
      "         11326, 45102,  2007,   120,   126,  2946,   114,   368,   134,   368,\n",
      "           122, 67336, 40070,   146,   132,   142,  7246,  2007,   120, 16353,\n",
      "          6612, 13074, 10320,   132,   146,  7246,   122,   102]]), 'token_type_ids': tensor([[0, 0, 0, 0, 0, 0, 0, 0, 0, 0, 0, 0, 0, 0, 0, 0, 0, 0, 0, 0, 0, 0, 0, 0,\n",
      "         0, 0, 0, 0, 0, 0, 0, 0, 0, 0, 0, 0, 0, 0, 0, 0, 0, 0, 0, 0, 0, 0, 0, 0]]), 'attention_mask': tensor([[1, 1, 1, 1, 1, 1, 1, 1, 1, 1, 1, 1, 1, 1, 1, 1, 1, 1, 1, 1, 1, 1, 1, 1,\n",
      "         1, 1, 1, 1, 1, 1, 1, 1, 1, 1, 1, 1, 1, 1, 1, 1, 1, 1, 1, 1, 1, 1, 1, 1]])}\n",
      "\n"
     ]
    }
   ],
   "source": [
    "for i in range(1):\n",
    "    text = df.text[i]\n",
    "    label = df.sentiment[i]\n",
    "    inputs = tokenizer(text, max_length=512, padding=True, truncation=True, return_tensors='pt')\n",
    "    outputs = model(**inputs)\n",
    "    predicted = torch.nn.functional.softmax(outputs.logits, dim=1)\n",
    "    predicted = torch.argmax(predicted, dim=1).numpy()\n",
    "    print('Predict', predicted[0])\n",
    "    print('True', label)\n",
    "    print(inputs)\n",
    "    \n",
    "    print()"
   ]
  },
  {
   "cell_type": "code",
   "execution_count": null,
   "id": "94ebf761-4c7b-4da9-8ace-7068e8486cc5",
   "metadata": {},
   "outputs": [],
   "source": []
  }
 ],
 "metadata": {
  "kernelspec": {
   "display_name": "Python 3 (ipykernel)",
   "language": "python",
   "name": "python3"
  },
  "language_info": {
   "codemirror_mode": {
    "name": "ipython",
    "version": 3
   },
   "file_extension": ".py",
   "mimetype": "text/x-python",
   "name": "python",
   "nbconvert_exporter": "python",
   "pygments_lexer": "ipython3",
   "version": "3.10.12"
  }
 },
 "nbformat": 4,
 "nbformat_minor": 5
}
