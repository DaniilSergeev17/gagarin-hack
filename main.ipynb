{
 "cells": [
  {
   "cell_type": "code",
   "execution_count": 30,
   "id": "initial_id",
   "metadata": {
    "jupyter": {
     "is_executing": true
    }
   },
   "outputs": [],
   "source": [
    "from telethon.sync import TelegramClient\n",
    "from client import  parse_channel_messages\n",
    "from config import API_ID, API_HASH, TOKEN"
   ]
  },
  {
   "cell_type": "code",
   "execution_count": 31,
   "id": "b30a2c4f7d3677ef",
   "metadata": {},
   "outputs": [],
   "source": [
    "client = TelegramClient('session_name', API_ID, API_HASH)"
   ]
  },
  {
   "cell_type": "code",
   "execution_count": 32,
   "id": "1ff78175-e028-4394-a9dd-d5cf2d2f129c",
   "metadata": {},
   "outputs": [],
   "source": [
    "ans = await parse_channel_messages(client, 'cbrstocks', limit=3)"
   ]
  },
  {
   "cell_type": "code",
   "execution_count": 33,
   "id": "8cf35e32-251f-4f77-9f4d-37cba4b528b5",
   "metadata": {},
   "outputs": [
    {
     "data": {
      "text/plain": [
       "['#GLTR #Дивиденды\\n**Выплата дивидендов в фокусе Globaltrans**, но пока приостановлена из-за технических сложностей. Работаем над решением — компания\\n\\nПосле успешного завершения редомициляции в ADGM текущей задачей является создание полноценной финансовой инфраструктуры в Абу-Даби — Globaltrans',\n",
       " '#GLTR #Отчетность\\n**🖨**** Globaltrans: МСФО 2023**\\n\\nЧистая прибыль 38.6 млрд руб (+55% г/г)',\n",
       " '❗️ **FIVE, VKCO и другие — трейды, которые вы упустили на прошлой неделе**\\n\\nПодборка быстрых трейдов, которые отторговали пользователи Шпиона РЦБ\\n\\n• FIVE до +12% на шорте после новостей о приостановке торгов\\n• VKCO +3% после идеи во влиятельном канале\\n• SBER +1.5% на словах Мишустина\\n\\nИ это только часть сигналов, на которых вы могли заработать со Шпионом. \\n\\nНачните новую торговую неделю с преимуществом над большинством трейдеров. \\n\\n👉 [Подключиться к Шпиону](https://t.me/stockspy_bot)']"
      ]
     },
     "execution_count": 33,
     "metadata": {},
     "output_type": "execute_result"
    }
   ],
   "source": [
    "ans"
   ]
  },
  {
   "cell_type": "code",
   "execution_count": null,
   "id": "03babc4b-2a60-4b64-aa2b-606d6e68cf77",
   "metadata": {},
   "outputs": [],
   "source": []
  }
 ],
 "metadata": {
  "kernelspec": {
   "display_name": "Python 3 (ipykernel)",
   "language": "python",
   "name": "python3"
  },
  "language_info": {
   "codemirror_mode": {
    "name": "ipython",
    "version": 3
   },
   "file_extension": ".py",
   "mimetype": "text/x-python",
   "name": "python",
   "nbconvert_exporter": "python",
   "pygments_lexer": "ipython3",
   "version": "3.10.12"
  }
 },
 "nbformat": 4,
 "nbformat_minor": 5
}
