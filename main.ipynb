{
 "cells": [
  {
   "cell_type": "code",
   "execution_count": 1,
   "id": "initial_id",
   "metadata": {
    "jupyter": {
     "is_executing": true
    }
   },
   "outputs": [],
   "source": [
    "from telethon.sync import TelegramClient\n",
    "from client import  parse_channel_messages\n",
    "from config import API_ID, API_HASH, TOKEN"
   ]
  },
  {
   "cell_type": "code",
   "execution_count": 2,
   "id": "b30a2c4f7d3677ef",
   "metadata": {},
   "outputs": [],
   "source": [
    "client = TelegramClient('session_name', API_ID, API_HASH)"
   ]
  },
  {
   "cell_type": "code",
   "execution_count": 12,
   "id": "1ff78175-e028-4394-a9dd-d5cf2d2f129c",
   "metadata": {},
   "outputs": [],
   "source": [
    "ans = await parse_channel_messages(client, 'cbrstocks', limit=3)"
   ]
  },
  {
   "cell_type": "code",
   "execution_count": 13,
   "id": "8cf35e32-251f-4f77-9f4d-37cba4b528b5",
   "metadata": {},
   "outputs": [
    {
     "data": {
      "text/plain": [
       "['#MOEX\\nМосковская биржа предложила Банку России рассмотреть возможность введения дополнительных мер поддержки эмитентов, которые должны простимулировать их активнее выходить на фондовый рынок -- Интерфакс',\n",
       " '#Недвижимость\\nСбер возобновил 5 апреля выдачи по льготной IT-ипотеке — банк',\n",
       " '#Нефтянка\\n🛢️ **РФ с 2026г закроет потребность в катализаторах для нефтепереработки и сможет перейти к их экспорту - **министр промышленности Мантуров']"
      ]
     },
     "execution_count": 13,
     "metadata": {},
     "output_type": "execute_result"
    }
   ],
   "source": [
    "ans"
   ]
  },
  {
   "cell_type": "code",
   "execution_count": null,
   "id": "4990a4c9-709e-4265-8670-1d98132dcdbb",
   "metadata": {},
   "outputs": [],
   "source": []
  }
 ],
 "metadata": {
  "kernelspec": {
   "display_name": "Python 3 (ipykernel)",
   "language": "python",
   "name": "python3"
  },
  "language_info": {
   "codemirror_mode": {
    "name": "ipython",
    "version": 3
   },
   "file_extension": ".py",
   "mimetype": "text/x-python",
   "name": "python",
   "nbconvert_exporter": "python",
   "pygments_lexer": "ipython3",
   "version": "3.10.12"
  }
 },
 "nbformat": 4,
 "nbformat_minor": 5
}
