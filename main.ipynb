{
 "cells": [
  {
   "cell_type": "code",
   "execution_count": 21,
   "id": "initial_id",
   "metadata": {
    "jupyter": {
     "is_executing": true
    }
   },
   "outputs": [
    {
     "name": "stderr",
     "output_type": "stream",
     "text": [
      "/home/daniil/.local/lib/python3.10/site-packages/tqdm/auto.py:21: TqdmWarning: IProgress not found. Please update jupyter and ipywidgets. See https://ipywidgets.readthedocs.io/en/stable/user_install.html\n",
      "  from .autonotebook import tqdm as notebook_tqdm\n"
     ]
    }
   ],
   "source": [
    "from telethon.sync import TelegramClient\n",
    "from client import  parse_channel_messages\n",
    "from config import API_ID, API_HASH, TOKEN\n",
    "\n",
    "import torch\n",
    "from transformers import AutoModelForSequenceClassification\n",
    "from transformers import BertTokenizerFast"
   ]
  },
  {
   "cell_type": "code",
   "execution_count": 2,
   "id": "b30a2c4f7d3677ef",
   "metadata": {},
   "outputs": [],
   "source": [
    "client = TelegramClient('session_name', API_ID, API_HASH)"
   ]
  },
  {
   "cell_type": "code",
   "execution_count": 18,
   "id": "1ff78175-e028-4394-a9dd-d5cf2d2f129c",
   "metadata": {},
   "outputs": [],
   "source": [
    "ans = await parse_channel_messages(client, 'cbrstocks', limit=5)"
   ]
  },
  {
   "cell_type": "code",
   "execution_count": 19,
   "id": "8cf35e32-251f-4f77-9f4d-37cba4b528b5",
   "metadata": {},
   "outputs": [],
   "source": [
    "ans = ans[2:-1]"
   ]
  },
  {
   "cell_type": "code",
   "execution_count": 20,
   "id": "03babc4b-2a60-4b64-aa2b-606d6e68cf77",
   "metadata": {},
   "outputs": [
    {
     "data": {
      "text/plain": [
       "['#MGNT #Идея\\n**🧠**** **[Шпион РЦБ](https://t.me/stockspy_bot)** указывает на возросший интерес крупных покупателей в акциях Магнита**\\n\\nВ последние дни видим аномальные объемы на покупку от крупных игроков, включая авторов закрытых каналов. \\n\\n**Мозговой центр Сигналов подтверждает актуальность **[**идеи по Магниту**](https://t.me/cbrstocks/58564)\\nТаргет: 10 000 руб/акцию\\nТекущая доходность +6%\\n\\n**Ближайшим триггером к росту акций Магнита может стать объявление дивиденда.**\\n\\n[👉 Подключиться к Шпиону](https://t.me/stockspy_bot)',\n",
       " '🔝 **Сигналы РЦБ снова в числе лучших**\\n\\nСервис Invest-idei.ru объявил победителей [конкурса](https://invest-idei.ru/contests-for-analysts/options-2024) аналитики \"**Опционы на миллионы\"**, который проходил при поддержке ПАО Московская Биржа. \\n\\n__Для победы в конкурсе с декабря 2023 по март 2024 аналитикам было необходимо опубликовать не менее 5 идей на опционы, либо на активы, которые являются базовым активом опционов на Московской Бирже. Всего в турнире приняли участие 20 аналитиков, которые сгенерировали 99 инвест-идей. 70% всех идей закрылись в плюсе__.\\n**\\n****👍**** Сигналы РЦБ заняли второе место: 12 идей со средней доходностью +6.2%**\\n\\nP.S. ИнвестИдеи, классный мерч, спасибо за подарки!']"
      ]
     },
     "execution_count": 20,
     "metadata": {},
     "output_type": "execute_result"
    }
   ],
   "source": [
    "ans"
   ]
  },
  {
   "cell_type": "code",
   "execution_count": 22,
   "id": "66d350b9-62c7-49e3-a3be-b9c7c5dfdea1",
   "metadata": {},
   "outputs": [
    {
     "name": "stderr",
     "output_type": "stream",
     "text": [
      "tokenizer_config.json: 100%|████████████████████| 495/495 [00:00<00:00, 555kB/s]\n",
      "vocab.txt: 100%|███████████████████████████| 1.40M/1.40M [00:01<00:00, 1.30MB/s]\n",
      "special_tokens_map.json: 100%|█████████████████| 112/112 [00:00<00:00, 95.7kB/s]\n",
      "config.json: 100%|██████████████████████████████| 952/952 [00:00<00:00, 771kB/s]\n",
      "model.safetensors: 100%|█████████████████████| 711M/711M [06:34<00:00, 1.80MB/s]\n"
     ]
    }
   ],
   "source": [
    "tokenizer = BertTokenizerFast.from_pretrained('blanchefort/rubert-base-cased-sentiment-rusentiment')\n",
    "model = AutoModelForSequenceClassification.from_pretrained('blanchefort/rubert-base-cased-sentiment-rusentiment', return_dict=True)\n"
   ]
  },
  {
   "cell_type": "code",
   "execution_count": 25,
   "id": "3d6d1efa-934b-4821-b451-d8834d0c00fc",
   "metadata": {},
   "outputs": [
    {
     "name": "stdout",
     "output_type": "stream",
     "text": [
      "#MGNT #Идея\n",
      "**🧠**** **[Шпион РЦБ](https://t.me/stockspy_bot)** указывает на возросший интерес крупных покупателей в акциях Магнита**\n",
      "\n",
      "В последние дни видим аномальные объемы на покупку от крупных игроков, включая авторов закрытых каналов. \n",
      "\n",
      "**Мозговой центр Сигналов подтверждает актуальность **[**идеи по Магниту**](https://t.me/cbrstocks/58564)\n",
      "Таргет: 10 000 руб/акцию\n",
      "Текущая доходность +6%\n",
      "\n",
      "**Ближайшим триггером к росту акций Магнита может стать объявление дивиденда.**\n",
      "\n",
      "[👉 Подключиться к Шпиону](https://t.me/stockspy_bot)\n",
      "[0]\n",
      "🔝 **Сигналы РЦБ снова в числе лучших**\n",
      "\n",
      "Сервис Invest-idei.ru объявил победителей [конкурса](https://invest-idei.ru/contests-for-analysts/options-2024) аналитики \"**Опционы на миллионы\"**, который проходил при поддержке ПАО Московская Биржа. \n",
      "\n",
      "__Для победы в конкурсе с декабря 2023 по март 2024 аналитикам было необходимо опубликовать не менее 5 идей на опционы, либо на активы, которые являются базовым активом опционов на Московской Бирже. Всего в турнире приняли участие 20 аналитиков, которые сгенерировали 99 инвест-идей. 70% всех идей закрылись в плюсе__.\n",
      "**\n",
      "****👍**** Сигналы РЦБ заняли второе место: 12 идей со средней доходностью +6.2%**\n",
      "\n",
      "P.S. ИнвестИдеи, классный мерч, спасибо за подарки!\n",
      "[1]\n"
     ]
    }
   ],
   "source": [
    "for text in ans:\n",
    "    inputs = tokenizer(text, max_length=512, padding=True, truncation=True, return_tensors='pt')\n",
    "    outputs = model(**inputs)\n",
    "    predicted = torch.nn.functional.softmax(outputs.logits, dim=1)\n",
    "    predicted = torch.argmax(predicted, dim=1).numpy()\n",
    "    print(text)\n",
    "    print(predicted)"
   ]
  },
  {
   "cell_type": "code",
   "execution_count": null,
   "id": "94ebf761-4c7b-4da9-8ace-7068e8486cc5",
   "metadata": {},
   "outputs": [],
   "source": []
  }
 ],
 "metadata": {
  "kernelspec": {
   "display_name": "Python 3 (ipykernel)",
   "language": "python",
   "name": "python3"
  },
  "language_info": {
   "codemirror_mode": {
    "name": "ipython",
    "version": 3
   },
   "file_extension": ".py",
   "mimetype": "text/x-python",
   "name": "python",
   "nbconvert_exporter": "python",
   "pygments_lexer": "ipython3",
   "version": "3.10.12"
  }
 },
 "nbformat": 4,
 "nbformat_minor": 5
}
